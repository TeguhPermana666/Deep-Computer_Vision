{
 "cells": [
  {
   "cell_type": "markdown",
   "metadata": {},
   "source": [
    "# VGGNet-16\n",
    "\n",
    "https://www.kaggle.com/code/blurredmachine/vggnet-16-architecture-a-complete-guide"
   ]
  },
  {
   "cell_type": "markdown",
   "metadata": {},
   "source": [
    "It has released a series of convolutional network models beginning with VGG"
   ]
  },
  {
   "cell_type": "markdown",
   "metadata": {},
   "source": [
    "The original purpose of VGG's research on the depth of convolutional networks is to understand how the depth of convolutional networks affects the accuracy and accuracy of large-scale image classification and recognition.\n",
    "\n",
    "- Deep-16 CNN), in order to deepen the number of network layers and to avoid too many parameters, a small 3x3 convolution kernel is used in all layers."
   ]
  },
  {
   "cell_type": "markdown",
   "metadata": {},
   "source": [
    "# Arsitecture :\n",
    "http://ethereon.github.io/netscope/#/gist/dc5003de6943ea5a6b8b\n",
    "\n",
    "![Vggnet.png](images\\cnn\\vggnet.png)"
   ]
  },
  {
   "cell_type": "markdown",
   "metadata": {},
   "source": [
    "![vggnet_pathway.png](images\\cnn\\vggnet_pathway.png)"
   ]
  },
  {
   "cell_type": "markdown",
   "metadata": {},
   "source": [
    "![vggnet.png](images\\cnn\\vggnet_arsitecture.jpg)"
   ]
  },
  {
   "cell_type": "markdown",
   "metadata": {},
   "source": [
    "- Setiap conv layer dalam AlexNet yang berisikan hanya satu convolution dan size sebuah convolution kernel adalah 77, pada VGGNet, setiap convolution layer berisikan 2 sampai 4 convolution operations. Size conv kernel adalah 33,the convolution step size is 1 the pooling kernel adalah 2*2, dan setiap step size adalah 2, abvious peningkatan dari VGGNet adalah mengurangi ukuran dari convolution kernel dan meningkatkan sebuah number dari convolution layers.\n",
    "\n",
    "![vggnet_schmea.jpeg](images\\cnn\\vggnet_schema.jpg)"
   ]
  },
  {
   "cell_type": "markdown",
   "metadata": {},
   "source": [
    "Menggunakan multiple convolution layers dengan smaller convolution kernels alih-alih dari larger conv layer dengan conv kernel bisa di reduce parameters pada saty tangan, and percayai persamaan untuk more non -linear mapping, yang incereases fit expression abillity\n",
    "\n",
    "![flow.png](images\\cnn\\activation_flow.png)"
   ]
  },
  {
   "cell_type": "code",
   "execution_count": null,
   "metadata": {},
   "outputs": [],
   "source": [
    "from keras.applications."
   ]
  }
 ],
 "metadata": {
  "kernelspec": {
   "display_name": "Python 3.9.9 ('env': venv)",
   "language": "python",
   "name": "python3"
  },
  "language_info": {
   "codemirror_mode": {
    "name": "ipython",
    "version": 3
   },
   "file_extension": ".py",
   "mimetype": "text/x-python",
   "name": "python",
   "nbconvert_exporter": "python",
   "pygments_lexer": "ipython3",
   "version": "3.9.9"
  },
  "orig_nbformat": 4,
  "vscode": {
   "interpreter": {
    "hash": "77f82ba0137ec3dae2f85316aa0d614a6a0840ddb68c06667e94242579b14d21"
   }
  }
 },
 "nbformat": 4,
 "nbformat_minor": 2
}
